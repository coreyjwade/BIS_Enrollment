{
 "cells": [
  {
   "cell_type": "markdown",
   "metadata": {},
   "source": [
    "# Berkeley Independent Study 2008-2018 Attendance Report\n",
    "## By Corey J Wade\n",
    "## November, 2018"
   ]
  },
  {
   "cell_type": "markdown",
   "metadata": {},
   "source": [
    "The Independent Study Program of Berkeley High School is an option for all Berkeley High students who prefer individualized, weekly meetings with teachers. Due to the voluntary nature of the program, enrollment can be unpredictable.\n",
    "\n",
    "Administration has expressed concerns about lower enrollment to start the year. This occurs because students often learn about BIS after a report card or another incident during the school year that convinces them to make significant curriular or school changes.\n",
    "\n",
    "Fluctuating enrollment makes staffing BIS difficult. There must be enough teachers to handle mid-year surges in enrollment, without having an excess of teachers with low enrollment to start the year.\n",
    "\n",
    "This report provides general data analysis of BIS attendance/enrollment and hypothesis testing of BIS early enrollment. The data used in this report, provided by BIS Union Representative David Schroeder, includes one row of enrollment per year, and three rows of attendance per year. \n",
    "\n",
    "Note that in BIS, students earn attendance not for showing up, but for turning in work.  "
   ]
  },
  {
   "cell_type": "markdown",
   "metadata": {},
   "source": [
    "## Imports"
   ]
  },
  {
   "cell_type": "code",
   "execution_count": 1,
   "metadata": {},
   "outputs": [],
   "source": [
    "# Import standard libraries\n",
    "import pandas as pd\n",
    "import numpy as np\n",
    "import matplotlib.pyplot as plt\n",
    "import seaborn as sns\n",
    "from numpy.polynomial.polynomial import polyfit\n",
    "import statsmodels.api as sm\n",
    "import statsmodels.formula.api as smf\n",
    "import warnings\n",
    "\n",
    "# Silence warnings\n",
    "warnings.filterwarnings('ignore')\n",
    "\n",
    "# Set up seaborn dark grid\n",
    "sns.set()\n",
    "\n",
    "# Show graphs in notebook\n",
    "%matplotlib inline"
   ]
  },
  {
   "cell_type": "markdown",
   "metadata": {},
   "source": [
    "## DataFrame"
   ]
  },
  {
   "cell_type": "code",
   "execution_count": 2,
   "metadata": {},
   "outputs": [],
   "source": [
    "# Set up nan values as floats\n",
    "nan = float('NaN')\n",
    "\n",
    "# Create dictionary from provided pdf values\n",
    "d = {'type': ['October Enrollment', 'P1 ADA', 'P2 ADA', 'PA ADA', '% P2 Att'], '2008-2009': [132, nan, 144.78, nan, 1.097], '2009-2010': [117, nan, 131, nan, 1.12],\n",
    "    '2010-2011': [136, nan, 121, nan, 0.89], '2011-2012': [135,114,111,112, 0.822], '2012-2013':[109,82,89,88,.817],\n",
    "    '2013-1014': [130,114,109,109, 0.838], '2014-2015': [125, 113, 121, 126, 0.968],\n",
    "    '2015-2016':[134, 98, 128, 130, 0.955], '2016-2017': [135, 132, 138, 134, 1.022], '2017-2018': [nan, 130, nan, nan, nan]}\n",
    "\n",
    "# Create DataFrame\n",
    "df = pd.DataFrame(d)\n",
    "\n",
    "# Set index\n",
    "df = df.set_index('type')"
   ]
  },
  {
   "cell_type": "markdown",
   "metadata": {},
   "source": [
    "I coded in the data by hand since there were very few entries and PDFs are not easy to translate. I double-checked the data more than once to make sure that I did not make any errors."
   ]
  },
  {
   "cell_type": "code",
   "execution_count": 3,
   "metadata": {},
   "outputs": [
    {
     "data": {
      "text/html": [
       "<div>\n",
       "<style scoped>\n",
       "    .dataframe tbody tr th:only-of-type {\n",
       "        vertical-align: middle;\n",
       "    }\n",
       "\n",
       "    .dataframe tbody tr th {\n",
       "        vertical-align: top;\n",
       "    }\n",
       "\n",
       "    .dataframe thead th {\n",
       "        text-align: right;\n",
       "    }\n",
       "</style>\n",
       "<table border=\"1\" class=\"dataframe\">\n",
       "  <thead>\n",
       "    <tr style=\"text-align: right;\">\n",
       "      <th></th>\n",
       "      <th>2008-2009</th>\n",
       "      <th>2009-2010</th>\n",
       "      <th>2010-2011</th>\n",
       "      <th>2011-2012</th>\n",
       "      <th>2012-2013</th>\n",
       "      <th>2013-1014</th>\n",
       "      <th>2014-2015</th>\n",
       "      <th>2015-2016</th>\n",
       "      <th>2016-2017</th>\n",
       "      <th>2017-2018</th>\n",
       "    </tr>\n",
       "    <tr>\n",
       "      <th>type</th>\n",
       "      <th></th>\n",
       "      <th></th>\n",
       "      <th></th>\n",
       "      <th></th>\n",
       "      <th></th>\n",
       "      <th></th>\n",
       "      <th></th>\n",
       "      <th></th>\n",
       "      <th></th>\n",
       "      <th></th>\n",
       "    </tr>\n",
       "  </thead>\n",
       "  <tbody>\n",
       "    <tr>\n",
       "      <th>October Enrollment</th>\n",
       "      <td>132.000</td>\n",
       "      <td>117.00</td>\n",
       "      <td>136.00</td>\n",
       "      <td>135.000</td>\n",
       "      <td>109.000</td>\n",
       "      <td>130.000</td>\n",
       "      <td>125.000</td>\n",
       "      <td>134.000</td>\n",
       "      <td>135.000</td>\n",
       "      <td>NaN</td>\n",
       "    </tr>\n",
       "    <tr>\n",
       "      <th>P1 ADA</th>\n",
       "      <td>NaN</td>\n",
       "      <td>NaN</td>\n",
       "      <td>NaN</td>\n",
       "      <td>114.000</td>\n",
       "      <td>82.000</td>\n",
       "      <td>114.000</td>\n",
       "      <td>113.000</td>\n",
       "      <td>98.000</td>\n",
       "      <td>132.000</td>\n",
       "      <td>130.0</td>\n",
       "    </tr>\n",
       "    <tr>\n",
       "      <th>P2 ADA</th>\n",
       "      <td>144.780</td>\n",
       "      <td>131.00</td>\n",
       "      <td>121.00</td>\n",
       "      <td>111.000</td>\n",
       "      <td>89.000</td>\n",
       "      <td>109.000</td>\n",
       "      <td>121.000</td>\n",
       "      <td>128.000</td>\n",
       "      <td>138.000</td>\n",
       "      <td>NaN</td>\n",
       "    </tr>\n",
       "    <tr>\n",
       "      <th>PA ADA</th>\n",
       "      <td>NaN</td>\n",
       "      <td>NaN</td>\n",
       "      <td>NaN</td>\n",
       "      <td>112.000</td>\n",
       "      <td>88.000</td>\n",
       "      <td>109.000</td>\n",
       "      <td>126.000</td>\n",
       "      <td>130.000</td>\n",
       "      <td>134.000</td>\n",
       "      <td>NaN</td>\n",
       "    </tr>\n",
       "    <tr>\n",
       "      <th>% P2 Att</th>\n",
       "      <td>1.097</td>\n",
       "      <td>1.12</td>\n",
       "      <td>0.89</td>\n",
       "      <td>0.822</td>\n",
       "      <td>0.817</td>\n",
       "      <td>0.838</td>\n",
       "      <td>0.968</td>\n",
       "      <td>0.955</td>\n",
       "      <td>1.022</td>\n",
       "      <td>NaN</td>\n",
       "    </tr>\n",
       "  </tbody>\n",
       "</table>\n",
       "</div>"
      ],
      "text/plain": [
       "                    2008-2009  2009-2010  2010-2011  2011-2012  2012-2013  \\\n",
       "type                                                                        \n",
       "October Enrollment    132.000     117.00     136.00    135.000    109.000   \n",
       "P1 ADA                    NaN        NaN        NaN    114.000     82.000   \n",
       "P2 ADA                144.780     131.00     121.00    111.000     89.000   \n",
       "PA ADA                    NaN        NaN        NaN    112.000     88.000   \n",
       "% P2 Att                1.097       1.12       0.89      0.822      0.817   \n",
       "\n",
       "                    2013-1014  2014-2015  2015-2016  2016-2017  2017-2018  \n",
       "type                                                                       \n",
       "October Enrollment    130.000    125.000    134.000    135.000        NaN  \n",
       "P1 ADA                114.000    113.000     98.000    132.000      130.0  \n",
       "P2 ADA                109.000    121.000    128.000    138.000        NaN  \n",
       "PA ADA                109.000    126.000    130.000    134.000        NaN  \n",
       "% P2 Att                0.838      0.968      0.955      1.022        NaN  "
      ]
     },
     "execution_count": 3,
     "metadata": {},
     "output_type": "execute_result"
    }
   ],
   "source": [
    "# Display DataFrame\n",
    "df"
   ]
  },
  {
   "cell_type": "markdown",
   "metadata": {},
   "source": [
    "This is essentialy a copy of the provided PDF. Each entry lists the given enrollment or attendance (ADA) for different periods, except for the last row. The last row is the percentage of increase or decrease from the first (index 0) to third row (index 2). The first row is the \"October CALPADS Enrollment,\" and the third row is attendance taken later in the year.\n",
    "\n",
    "This row is not relevant for our purposes."
   ]
  },
  {
   "cell_type": "markdown",
   "metadata": {},
   "source": [
    "## Delete Non-Enrollment Row"
   ]
  },
  {
   "cell_type": "code",
   "execution_count": 4,
   "metadata": {},
   "outputs": [
    {
     "data": {
      "text/html": [
       "<div>\n",
       "<style scoped>\n",
       "    .dataframe tbody tr th:only-of-type {\n",
       "        vertical-align: middle;\n",
       "    }\n",
       "\n",
       "    .dataframe tbody tr th {\n",
       "        vertical-align: top;\n",
       "    }\n",
       "\n",
       "    .dataframe thead th {\n",
       "        text-align: right;\n",
       "    }\n",
       "</style>\n",
       "<table border=\"1\" class=\"dataframe\">\n",
       "  <thead>\n",
       "    <tr style=\"text-align: right;\">\n",
       "      <th></th>\n",
       "      <th>2008-2009</th>\n",
       "      <th>2009-2010</th>\n",
       "      <th>2010-2011</th>\n",
       "      <th>2011-2012</th>\n",
       "      <th>2012-2013</th>\n",
       "      <th>2013-1014</th>\n",
       "      <th>2014-2015</th>\n",
       "      <th>2015-2016</th>\n",
       "      <th>2016-2017</th>\n",
       "      <th>2017-2018</th>\n",
       "    </tr>\n",
       "    <tr>\n",
       "      <th>type</th>\n",
       "      <th></th>\n",
       "      <th></th>\n",
       "      <th></th>\n",
       "      <th></th>\n",
       "      <th></th>\n",
       "      <th></th>\n",
       "      <th></th>\n",
       "      <th></th>\n",
       "      <th></th>\n",
       "      <th></th>\n",
       "    </tr>\n",
       "  </thead>\n",
       "  <tbody>\n",
       "    <tr>\n",
       "      <th>October Enrollment</th>\n",
       "      <td>132.00</td>\n",
       "      <td>117.0</td>\n",
       "      <td>136.0</td>\n",
       "      <td>135.0</td>\n",
       "      <td>109.0</td>\n",
       "      <td>130.0</td>\n",
       "      <td>125.0</td>\n",
       "      <td>134.0</td>\n",
       "      <td>135.0</td>\n",
       "      <td>NaN</td>\n",
       "    </tr>\n",
       "    <tr>\n",
       "      <th>P1 ADA</th>\n",
       "      <td>NaN</td>\n",
       "      <td>NaN</td>\n",
       "      <td>NaN</td>\n",
       "      <td>114.0</td>\n",
       "      <td>82.0</td>\n",
       "      <td>114.0</td>\n",
       "      <td>113.0</td>\n",
       "      <td>98.0</td>\n",
       "      <td>132.0</td>\n",
       "      <td>130.0</td>\n",
       "    </tr>\n",
       "    <tr>\n",
       "      <th>P2 ADA</th>\n",
       "      <td>144.78</td>\n",
       "      <td>131.0</td>\n",
       "      <td>121.0</td>\n",
       "      <td>111.0</td>\n",
       "      <td>89.0</td>\n",
       "      <td>109.0</td>\n",
       "      <td>121.0</td>\n",
       "      <td>128.0</td>\n",
       "      <td>138.0</td>\n",
       "      <td>NaN</td>\n",
       "    </tr>\n",
       "    <tr>\n",
       "      <th>PA ADA</th>\n",
       "      <td>NaN</td>\n",
       "      <td>NaN</td>\n",
       "      <td>NaN</td>\n",
       "      <td>112.0</td>\n",
       "      <td>88.0</td>\n",
       "      <td>109.0</td>\n",
       "      <td>126.0</td>\n",
       "      <td>130.0</td>\n",
       "      <td>134.0</td>\n",
       "      <td>NaN</td>\n",
       "    </tr>\n",
       "  </tbody>\n",
       "</table>\n",
       "</div>"
      ],
      "text/plain": [
       "                    2008-2009  2009-2010  2010-2011  2011-2012  2012-2013  \\\n",
       "type                                                                        \n",
       "October Enrollment     132.00      117.0      136.0      135.0      109.0   \n",
       "P1 ADA                    NaN        NaN        NaN      114.0       82.0   \n",
       "P2 ADA                 144.78      131.0      121.0      111.0       89.0   \n",
       "PA ADA                    NaN        NaN        NaN      112.0       88.0   \n",
       "\n",
       "                    2013-1014  2014-2015  2015-2016  2016-2017  2017-2018  \n",
       "type                                                                       \n",
       "October Enrollment      130.0      125.0      134.0      135.0        NaN  \n",
       "P1 ADA                  114.0      113.0       98.0      132.0      130.0  \n",
       "P2 ADA                  109.0      121.0      128.0      138.0        NaN  \n",
       "PA ADA                  109.0      126.0      130.0      134.0        NaN  "
      ]
     },
     "execution_count": 4,
     "metadata": {},
     "output_type": "execute_result"
    }
   ],
   "source": [
    "# The last row is not relevant here\n",
    "df = df[0:4]\n",
    "df"
   ]
  },
  {
   "cell_type": "markdown",
   "metadata": {},
   "source": [
    "That NaN values will be left in. Although it's tempting to replace them with mean attendance, such a replacement would create attendance periods that were never recorded and could sway the results. "
   ]
  },
  {
   "cell_type": "markdown",
   "metadata": {},
   "source": [
    "## Attendance/Enrollment"
   ]
  },
  {
   "cell_type": "markdown",
   "metadata": {},
   "source": [
    "Since attendance and enrollment are different categories, their data should be examined separately."
   ]
  },
  {
   "cell_type": "code",
   "execution_count": 5,
   "metadata": {},
   "outputs": [],
   "source": [
    "# Create attendance DataFrame\n",
    "df_attendance = df[1:]\n",
    "\n",
    "# Create enrollment DataFrame\n",
    "df_enrollment = df[0:1]"
   ]
  },
  {
   "cell_type": "markdown",
   "metadata": {},
   "source": [
    "## Attendance By Year"
   ]
  },
  {
   "cell_type": "code",
   "execution_count": 6,
   "metadata": {},
   "outputs": [
    {
     "data": {
      "text/html": [
       "<div>\n",
       "<style scoped>\n",
       "    .dataframe tbody tr th:only-of-type {\n",
       "        vertical-align: middle;\n",
       "    }\n",
       "\n",
       "    .dataframe tbody tr th {\n",
       "        vertical-align: top;\n",
       "    }\n",
       "\n",
       "    .dataframe thead th {\n",
       "        text-align: right;\n",
       "    }\n",
       "</style>\n",
       "<table border=\"1\" class=\"dataframe\">\n",
       "  <thead>\n",
       "    <tr style=\"text-align: right;\">\n",
       "      <th></th>\n",
       "      <th>2008-2009</th>\n",
       "      <th>2009-2010</th>\n",
       "      <th>2010-2011</th>\n",
       "      <th>2011-2012</th>\n",
       "      <th>2012-2013</th>\n",
       "      <th>2013-1014</th>\n",
       "      <th>2014-2015</th>\n",
       "      <th>2015-2016</th>\n",
       "      <th>2016-2017</th>\n",
       "      <th>2017-2018</th>\n",
       "    </tr>\n",
       "  </thead>\n",
       "  <tbody>\n",
       "    <tr>\n",
       "      <th>count</th>\n",
       "      <td>1.00</td>\n",
       "      <td>1.0</td>\n",
       "      <td>1.0</td>\n",
       "      <td>3.000000</td>\n",
       "      <td>3.000000</td>\n",
       "      <td>3.000000</td>\n",
       "      <td>3.000000</td>\n",
       "      <td>3.000000</td>\n",
       "      <td>3.000000</td>\n",
       "      <td>1.0</td>\n",
       "    </tr>\n",
       "    <tr>\n",
       "      <th>mean</th>\n",
       "      <td>144.78</td>\n",
       "      <td>131.0</td>\n",
       "      <td>121.0</td>\n",
       "      <td>112.333333</td>\n",
       "      <td>86.333333</td>\n",
       "      <td>110.666667</td>\n",
       "      <td>120.000000</td>\n",
       "      <td>118.666667</td>\n",
       "      <td>134.666667</td>\n",
       "      <td>130.0</td>\n",
       "    </tr>\n",
       "    <tr>\n",
       "      <th>std</th>\n",
       "      <td>NaN</td>\n",
       "      <td>NaN</td>\n",
       "      <td>NaN</td>\n",
       "      <td>1.527525</td>\n",
       "      <td>3.785939</td>\n",
       "      <td>2.886751</td>\n",
       "      <td>6.557439</td>\n",
       "      <td>17.925773</td>\n",
       "      <td>3.055050</td>\n",
       "      <td>NaN</td>\n",
       "    </tr>\n",
       "    <tr>\n",
       "      <th>min</th>\n",
       "      <td>144.78</td>\n",
       "      <td>131.0</td>\n",
       "      <td>121.0</td>\n",
       "      <td>111.000000</td>\n",
       "      <td>82.000000</td>\n",
       "      <td>109.000000</td>\n",
       "      <td>113.000000</td>\n",
       "      <td>98.000000</td>\n",
       "      <td>132.000000</td>\n",
       "      <td>130.0</td>\n",
       "    </tr>\n",
       "    <tr>\n",
       "      <th>25%</th>\n",
       "      <td>144.78</td>\n",
       "      <td>131.0</td>\n",
       "      <td>121.0</td>\n",
       "      <td>111.500000</td>\n",
       "      <td>85.000000</td>\n",
       "      <td>109.000000</td>\n",
       "      <td>117.000000</td>\n",
       "      <td>113.000000</td>\n",
       "      <td>133.000000</td>\n",
       "      <td>130.0</td>\n",
       "    </tr>\n",
       "    <tr>\n",
       "      <th>50%</th>\n",
       "      <td>144.78</td>\n",
       "      <td>131.0</td>\n",
       "      <td>121.0</td>\n",
       "      <td>112.000000</td>\n",
       "      <td>88.000000</td>\n",
       "      <td>109.000000</td>\n",
       "      <td>121.000000</td>\n",
       "      <td>128.000000</td>\n",
       "      <td>134.000000</td>\n",
       "      <td>130.0</td>\n",
       "    </tr>\n",
       "    <tr>\n",
       "      <th>75%</th>\n",
       "      <td>144.78</td>\n",
       "      <td>131.0</td>\n",
       "      <td>121.0</td>\n",
       "      <td>113.000000</td>\n",
       "      <td>88.500000</td>\n",
       "      <td>111.500000</td>\n",
       "      <td>123.500000</td>\n",
       "      <td>129.000000</td>\n",
       "      <td>136.000000</td>\n",
       "      <td>130.0</td>\n",
       "    </tr>\n",
       "    <tr>\n",
       "      <th>max</th>\n",
       "      <td>144.78</td>\n",
       "      <td>131.0</td>\n",
       "      <td>121.0</td>\n",
       "      <td>114.000000</td>\n",
       "      <td>89.000000</td>\n",
       "      <td>114.000000</td>\n",
       "      <td>126.000000</td>\n",
       "      <td>130.000000</td>\n",
       "      <td>138.000000</td>\n",
       "      <td>130.0</td>\n",
       "    </tr>\n",
       "  </tbody>\n",
       "</table>\n",
       "</div>"
      ],
      "text/plain": [
       "       2008-2009  2009-2010  2010-2011   2011-2012  2012-2013   2013-1014  \\\n",
       "count       1.00        1.0        1.0    3.000000   3.000000    3.000000   \n",
       "mean      144.78      131.0      121.0  112.333333  86.333333  110.666667   \n",
       "std          NaN        NaN        NaN    1.527525   3.785939    2.886751   \n",
       "min       144.78      131.0      121.0  111.000000  82.000000  109.000000   \n",
       "25%       144.78      131.0      121.0  111.500000  85.000000  109.000000   \n",
       "50%       144.78      131.0      121.0  112.000000  88.000000  109.000000   \n",
       "75%       144.78      131.0      121.0  113.000000  88.500000  111.500000   \n",
       "max       144.78      131.0      121.0  114.000000  89.000000  114.000000   \n",
       "\n",
       "        2014-2015   2015-2016   2016-2017  2017-2018  \n",
       "count    3.000000    3.000000    3.000000        1.0  \n",
       "mean   120.000000  118.666667  134.666667      130.0  \n",
       "std      6.557439   17.925773    3.055050        NaN  \n",
       "min    113.000000   98.000000  132.000000      130.0  \n",
       "25%    117.000000  113.000000  133.000000      130.0  \n",
       "50%    121.000000  128.000000  134.000000      130.0  \n",
       "75%    123.500000  129.000000  136.000000      130.0  \n",
       "max    126.000000  130.000000  138.000000      130.0  "
      ]
     },
     "execution_count": 6,
     "metadata": {},
     "output_type": "execute_result"
    }
   ],
   "source": [
    "# View statistics by year\n",
    "df_attendance.describe()"
   ]
  },
  {
   "cell_type": "markdown",
   "metadata": {},
   "source": [
    "Most years show means close to medians suggesting that the data is somewhat evenly distributed.\n",
    "\n",
    "The standard deviations range from 1.5 to 17.9, although they are usually less than 7. This is an early indicator that enrollment does not fluctuate too much."
   ]
  },
  {
   "cell_type": "markdown",
   "metadata": {},
   "source": [
    "## Enrollment By Year"
   ]
  },
  {
   "cell_type": "code",
   "execution_count": 7,
   "metadata": {},
   "outputs": [
    {
     "data": {
      "text/html": [
       "<div>\n",
       "<style scoped>\n",
       "    .dataframe tbody tr th:only-of-type {\n",
       "        vertical-align: middle;\n",
       "    }\n",
       "\n",
       "    .dataframe tbody tr th {\n",
       "        vertical-align: top;\n",
       "    }\n",
       "\n",
       "    .dataframe thead th {\n",
       "        text-align: right;\n",
       "    }\n",
       "</style>\n",
       "<table border=\"1\" class=\"dataframe\">\n",
       "  <thead>\n",
       "    <tr style=\"text-align: right;\">\n",
       "      <th>type</th>\n",
       "      <th>October Enrollment</th>\n",
       "    </tr>\n",
       "  </thead>\n",
       "  <tbody>\n",
       "    <tr>\n",
       "      <th>count</th>\n",
       "      <td>9.000000</td>\n",
       "    </tr>\n",
       "    <tr>\n",
       "      <th>mean</th>\n",
       "      <td>128.111111</td>\n",
       "    </tr>\n",
       "    <tr>\n",
       "      <th>std</th>\n",
       "      <td>9.413347</td>\n",
       "    </tr>\n",
       "    <tr>\n",
       "      <th>min</th>\n",
       "      <td>109.000000</td>\n",
       "    </tr>\n",
       "    <tr>\n",
       "      <th>25%</th>\n",
       "      <td>125.000000</td>\n",
       "    </tr>\n",
       "    <tr>\n",
       "      <th>50%</th>\n",
       "      <td>132.000000</td>\n",
       "    </tr>\n",
       "    <tr>\n",
       "      <th>75%</th>\n",
       "      <td>135.000000</td>\n",
       "    </tr>\n",
       "    <tr>\n",
       "      <th>max</th>\n",
       "      <td>136.000000</td>\n",
       "    </tr>\n",
       "  </tbody>\n",
       "</table>\n",
       "</div>"
      ],
      "text/plain": [
       "type   October Enrollment\n",
       "count            9.000000\n",
       "mean           128.111111\n",
       "std              9.413347\n",
       "min            109.000000\n",
       "25%            125.000000\n",
       "50%            132.000000\n",
       "75%            135.000000\n",
       "max            136.000000"
      ]
     },
     "execution_count": 7,
     "metadata": {},
     "output_type": "execute_result"
    }
   ],
   "source": [
    "# Transpose Enrollment Row then display stats\n",
    "df_enrollment.T.describe()"
   ]
  },
  {
   "cell_type": "markdown",
   "metadata": {},
   "source": [
    "Noe that the standard deviation of enrollment is 9.4 indicating that enrollment is often within 10 students of the mean enrollment of 128.\n",
    "\n",
    "Let's compute the full range:"
   ]
  },
  {
   "cell_type": "code",
   "execution_count": 8,
   "metadata": {},
   "outputs": [
    {
     "data": {
      "text/plain": [
       "type\n",
       "October Enrollment    27.0\n",
       "dtype: float64"
      ]
     },
     "execution_count": 8,
     "metadata": {},
     "output_type": "execute_result"
    }
   ],
   "source": [
    "df_enrollment.T.max()-df_enrollment.T.min()"
   ]
  },
  {
   "cell_type": "markdown",
   "metadata": {},
   "source": [
    "These  are important results. The greatest change in recorded enrollment over the last 10 years for BIS is 27 students. The usual change is about 10. BIS teachers see 1 student per half hour, and students take an average of 3 classes per quarter. We can thus convert enrollment changes to teacher hours."
   ]
  },
  {
   "cell_type": "code",
   "execution_count": 9,
   "metadata": {},
   "outputs": [],
   "source": [
    "def enrollment_to_teacher_hours(enrollment):\n",
    "    classes = enrollment * 3\n",
    "    teacher_hours = classes/2\n",
    "    return teacher_hours"
   ]
  },
  {
   "cell_type": "code",
   "execution_count": 10,
   "metadata": {},
   "outputs": [
    {
     "name": "stdout",
     "output_type": "stream",
     "text": [
      "Greatest change in teacher hours over ten year period: 40.5\n",
      "Average change in teacher hours over ten year period 15.0\n"
     ]
    }
   ],
   "source": [
    "high = enrollment_to_teacher_hours(27)\n",
    "\n",
    "avg = enrollment_to_teacher_hours(10)\n",
    "\n",
    "print('Greatest change in teacher hours over ten year period:', high)\n",
    "\n",
    "print('Average change in teacher hours over ten year period', avg)"
   ]
  },
  {
   "cell_type": "markdown",
   "metadata": {},
   "source": [
    "This could be the problem. There is a difference of about 25 teacher hours from enrolment changes in a regular year to an extreme year. \n",
    "\n",
    "We can use linear regression to predict enrollment going forward. First, let's adjust the DataFrames."
   ]
  },
  {
   "cell_type": "markdown",
   "metadata": {},
   "source": [
    "## Transposing DataFrame"
   ]
  },
  {
   "cell_type": "code",
   "execution_count": 11,
   "metadata": {},
   "outputs": [
    {
     "data": {
      "text/html": [
       "<div>\n",
       "<style scoped>\n",
       "    .dataframe tbody tr th:only-of-type {\n",
       "        vertical-align: middle;\n",
       "    }\n",
       "\n",
       "    .dataframe tbody tr th {\n",
       "        vertical-align: top;\n",
       "    }\n",
       "\n",
       "    .dataframe thead th {\n",
       "        text-align: right;\n",
       "    }\n",
       "</style>\n",
       "<table border=\"1\" class=\"dataframe\">\n",
       "  <thead>\n",
       "    <tr style=\"text-align: right;\">\n",
       "      <th>type</th>\n",
       "      <th>October Enrollment</th>\n",
       "      <th>P1 ADA</th>\n",
       "      <th>P2 ADA</th>\n",
       "      <th>PA ADA</th>\n",
       "    </tr>\n",
       "  </thead>\n",
       "  <tbody>\n",
       "    <tr>\n",
       "      <th>2008-2009</th>\n",
       "      <td>132.0</td>\n",
       "      <td>NaN</td>\n",
       "      <td>144.78</td>\n",
       "      <td>NaN</td>\n",
       "    </tr>\n",
       "    <tr>\n",
       "      <th>2009-2010</th>\n",
       "      <td>117.0</td>\n",
       "      <td>NaN</td>\n",
       "      <td>131.00</td>\n",
       "      <td>NaN</td>\n",
       "    </tr>\n",
       "    <tr>\n",
       "      <th>2010-2011</th>\n",
       "      <td>136.0</td>\n",
       "      <td>NaN</td>\n",
       "      <td>121.00</td>\n",
       "      <td>NaN</td>\n",
       "    </tr>\n",
       "    <tr>\n",
       "      <th>2011-2012</th>\n",
       "      <td>135.0</td>\n",
       "      <td>114.0</td>\n",
       "      <td>111.00</td>\n",
       "      <td>112.0</td>\n",
       "    </tr>\n",
       "    <tr>\n",
       "      <th>2012-2013</th>\n",
       "      <td>109.0</td>\n",
       "      <td>82.0</td>\n",
       "      <td>89.00</td>\n",
       "      <td>88.0</td>\n",
       "    </tr>\n",
       "    <tr>\n",
       "      <th>2013-1014</th>\n",
       "      <td>130.0</td>\n",
       "      <td>114.0</td>\n",
       "      <td>109.00</td>\n",
       "      <td>109.0</td>\n",
       "    </tr>\n",
       "    <tr>\n",
       "      <th>2014-2015</th>\n",
       "      <td>125.0</td>\n",
       "      <td>113.0</td>\n",
       "      <td>121.00</td>\n",
       "      <td>126.0</td>\n",
       "    </tr>\n",
       "    <tr>\n",
       "      <th>2015-2016</th>\n",
       "      <td>134.0</td>\n",
       "      <td>98.0</td>\n",
       "      <td>128.00</td>\n",
       "      <td>130.0</td>\n",
       "    </tr>\n",
       "    <tr>\n",
       "      <th>2016-2017</th>\n",
       "      <td>135.0</td>\n",
       "      <td>132.0</td>\n",
       "      <td>138.00</td>\n",
       "      <td>134.0</td>\n",
       "    </tr>\n",
       "    <tr>\n",
       "      <th>2017-2018</th>\n",
       "      <td>NaN</td>\n",
       "      <td>130.0</td>\n",
       "      <td>NaN</td>\n",
       "      <td>NaN</td>\n",
       "    </tr>\n",
       "  </tbody>\n",
       "</table>\n",
       "</div>"
      ],
      "text/plain": [
       "type       October Enrollment  P1 ADA  P2 ADA  PA ADA\n",
       "2008-2009               132.0     NaN  144.78     NaN\n",
       "2009-2010               117.0     NaN  131.00     NaN\n",
       "2010-2011               136.0     NaN  121.00     NaN\n",
       "2011-2012               135.0   114.0  111.00   112.0\n",
       "2012-2013               109.0    82.0   89.00    88.0\n",
       "2013-1014               130.0   114.0  109.00   109.0\n",
       "2014-2015               125.0   113.0  121.00   126.0\n",
       "2015-2016               134.0    98.0  128.00   130.0\n",
       "2016-2017               135.0   132.0  138.00   134.0\n",
       "2017-2018                 NaN   130.0     NaN     NaN"
      ]
     },
     "execution_count": 11,
     "metadata": {},
     "output_type": "execute_result"
    }
   ],
   "source": [
    "# Transpose DataFrame\n",
    "df_t = df.T\n",
    "\n",
    "# Display transposed DataFrame\n",
    "df_t"
   ]
  },
  {
   "cell_type": "code",
   "execution_count": 12,
   "metadata": {},
   "outputs": [
    {
     "data": {
      "text/html": [
       "<div>\n",
       "<style scoped>\n",
       "    .dataframe tbody tr th:only-of-type {\n",
       "        vertical-align: middle;\n",
       "    }\n",
       "\n",
       "    .dataframe tbody tr th {\n",
       "        vertical-align: top;\n",
       "    }\n",
       "\n",
       "    .dataframe thead th {\n",
       "        text-align: right;\n",
       "    }\n",
       "</style>\n",
       "<table border=\"1\" class=\"dataframe\">\n",
       "  <thead>\n",
       "    <tr style=\"text-align: right;\">\n",
       "      <th>type</th>\n",
       "      <th>October Enrollment</th>\n",
       "      <th>P1 ADA</th>\n",
       "      <th>P2 ADA</th>\n",
       "      <th>PA ADA</th>\n",
       "    </tr>\n",
       "  </thead>\n",
       "  <tbody>\n",
       "    <tr>\n",
       "      <th>count</th>\n",
       "      <td>9.000000</td>\n",
       "      <td>7.000000</td>\n",
       "      <td>9.000000</td>\n",
       "      <td>6.000000</td>\n",
       "    </tr>\n",
       "    <tr>\n",
       "      <th>mean</th>\n",
       "      <td>128.111111</td>\n",
       "      <td>111.857143</td>\n",
       "      <td>121.420000</td>\n",
       "      <td>116.500000</td>\n",
       "    </tr>\n",
       "    <tr>\n",
       "      <th>std</th>\n",
       "      <td>9.413347</td>\n",
       "      <td>17.458795</td>\n",
       "      <td>16.844512</td>\n",
       "      <td>17.131842</td>\n",
       "    </tr>\n",
       "    <tr>\n",
       "      <th>min</th>\n",
       "      <td>109.000000</td>\n",
       "      <td>82.000000</td>\n",
       "      <td>89.000000</td>\n",
       "      <td>88.000000</td>\n",
       "    </tr>\n",
       "    <tr>\n",
       "      <th>25%</th>\n",
       "      <td>125.000000</td>\n",
       "      <td>105.500000</td>\n",
       "      <td>111.000000</td>\n",
       "      <td>109.750000</td>\n",
       "    </tr>\n",
       "    <tr>\n",
       "      <th>50%</th>\n",
       "      <td>132.000000</td>\n",
       "      <td>114.000000</td>\n",
       "      <td>121.000000</td>\n",
       "      <td>119.000000</td>\n",
       "    </tr>\n",
       "    <tr>\n",
       "      <th>75%</th>\n",
       "      <td>135.000000</td>\n",
       "      <td>122.000000</td>\n",
       "      <td>131.000000</td>\n",
       "      <td>129.000000</td>\n",
       "    </tr>\n",
       "    <tr>\n",
       "      <th>max</th>\n",
       "      <td>136.000000</td>\n",
       "      <td>132.000000</td>\n",
       "      <td>144.780000</td>\n",
       "      <td>134.000000</td>\n",
       "    </tr>\n",
       "  </tbody>\n",
       "</table>\n",
       "</div>"
      ],
      "text/plain": [
       "type   October Enrollment      P1 ADA      P2 ADA      PA ADA\n",
       "count            9.000000    7.000000    9.000000    6.000000\n",
       "mean           128.111111  111.857143  121.420000  116.500000\n",
       "std              9.413347   17.458795   16.844512   17.131842\n",
       "min            109.000000   82.000000   89.000000   88.000000\n",
       "25%            125.000000  105.500000  111.000000  109.750000\n",
       "50%            132.000000  114.000000  121.000000  119.000000\n",
       "75%            135.000000  122.000000  131.000000  129.000000\n",
       "max            136.000000  132.000000  144.780000  134.000000"
      ]
     },
     "execution_count": 12,
     "metadata": {},
     "output_type": "execute_result"
    }
   ],
   "source": [
    "# View statistics by attendance period\n",
    "df_t.describe()"
   ]
  },
  {
   "cell_type": "markdown",
   "metadata": {},
   "source": [
    "Note that attendance standard deviations are much higher than enrollment. This is likely due to two factors: 1) Early attendance will be lower than enrollment because some students will not do work; and 2) Later attendance can be higher than enrollment due to late-year surges in enrollment.\n",
    "\n",
    "Note that later attendance periods can only exceed October Enrollment if enrollment in fact increases."
   ]
  },
  {
   "cell_type": "markdown",
   "metadata": {},
   "source": [
    "## Organize Data"
   ]
  },
  {
   "cell_type": "code",
   "execution_count": 13,
   "metadata": {},
   "outputs": [],
   "source": [
    "#Prepare data for linear regression\n",
    "# Eliminate NaN values\n",
    "x_E = np.linspace(2009,2017,9)\n",
    "y_E = df_t['October Enrollment'][0:-1]\n",
    "\n",
    "y_P1 = df_t['P1 ADA'][3:]\n",
    "x_P1 = np.linspace(2012, 2018, 7)\n",
    "\n",
    "y_P2 = df_t['P2 ADA'][:-1]\n",
    "x_P2 = np.linspace(2009, 2017, 9)\n",
    "\n",
    "y_PA = df_t['PA ADA'][3:-1]\n",
    "x_PA = np.linspace(2012, 2017, 6)"
   ]
  },
  {
   "cell_type": "code",
   "execution_count": 14,
   "metadata": {},
   "outputs": [],
   "source": [
    "# Create array of all points\n",
    "x_att = []\n",
    "y_att = []\n",
    "\n",
    "XLIST = [x_P1, x_P2, x_PA]\n",
    "x_att = np.concatenate(XLIST, axis=0)\n",
    "\n",
    "YLIST = [y_P1, y_P2, y_PA]\n",
    "y_att = np.concatenate(YLIST, axis=0)\n",
    "\n",
    "XLIST_ALL = [x_P1, x_P2, x_PA, x_E]\n",
    "x_all = np.concatenate(XLIST_ALL, axis=0)\n",
    "\n",
    "YLIST_ALL = [y_P1, y_P2, y_PA, y_E]\n",
    "y_all = np.concatenate(YLIST_ALL, axis=0)"
   ]
  },
  {
   "cell_type": "markdown",
   "metadata": {},
   "source": [
    "## Box Plots"
   ]
  },
  {
   "cell_type": "code",
   "execution_count": 15,
   "metadata": {},
   "outputs": [],
   "source": [
    "def draw_plot(data, edge_color, fill_color):\n",
    "    bp = ax.boxplot(data, patch_artist=True)\n",
    "\n",
    "    for element in ['boxes', 'whiskers', 'fliers', 'means', 'medians', 'caps']:\n",
    "        plt.setp(bp[element], color=edge_color)\n",
    "\n",
    "    for patch in bp['boxes']:\n",
    "        patch.set(facecolor=fill_color) "
   ]
  },
  {
   "cell_type": "markdown",
   "metadata": {},
   "source": [
    "#### Enrollment"
   ]
  },
  {
   "cell_type": "code",
   "execution_count": 16,
   "metadata": {},
   "outputs": [
    {
     "data": {
      "image/png": "[encoded data removed]",
      "text/plain": [
       "<Figure size 720x504 with 1 Axes>"
      ]
     },
     "metadata": {},
     "output_type": "display_data"
    }
   ],
   "source": [
    "fig, ax = plt.subplots(figsize=(10, 7))\n",
    "draw_plot(y_E, 'black', 'steelblue')\n",
    "fig.suptitle('BIS Enrollment Distribution', fontsize=15)\n",
    "#ax.set_xlabel('Box Plot')\n",
    "#ax.set_ylabel('Enrollment')\n",
    "plt.show()"
   ]
  },
  {
   "cell_type": "code",
   "execution_count": 17,
   "metadata": {},
   "outputs": [
    {
     "data": {
      "text/html": [
       "<div>\n",
       "<style scoped>\n",
       "    .dataframe tbody tr th:only-of-type {\n",
       "        vertical-align: middle;\n",
       "    }\n",
       "\n",
       "    .dataframe tbody tr th {\n",
       "        vertical-align: top;\n",
       "    }\n",
       "\n",
       "    .dataframe thead th {\n",
       "        text-align: right;\n",
       "    }\n",
       "</style>\n",
       "<table border=\"1\" class=\"dataframe\">\n",
       "  <thead>\n",
       "    <tr style=\"text-align: right;\">\n",
       "      <th>type</th>\n",
       "      <th>October Enrollment</th>\n",
       "    </tr>\n",
       "  </thead>\n",
       "  <tbody>\n",
       "    <tr>\n",
       "      <th>2008-2009</th>\n",
       "      <td>132.0</td>\n",
       "    </tr>\n",
       "    <tr>\n",
       "      <th>2009-2010</th>\n",
       "      <td>117.0</td>\n",
       "    </tr>\n",
       "    <tr>\n",
       "      <th>2010-2011</th>\n",
       "      <td>136.0</td>\n",
       "    </tr>\n",
       "    <tr>\n",
       "      <th>2011-2012</th>\n",
       "      <td>135.0</td>\n",
       "    </tr>\n",
       "    <tr>\n",
       "      <th>2012-2013</th>\n",
       "      <td>109.0</td>\n",
       "    </tr>\n",
       "    <tr>\n",
       "      <th>2013-1014</th>\n",
       "      <td>130.0</td>\n",
       "    </tr>\n",
       "    <tr>\n",
       "      <th>2014-2015</th>\n",
       "      <td>125.0</td>\n",
       "    </tr>\n",
       "    <tr>\n",
       "      <th>2015-2016</th>\n",
       "      <td>134.0</td>\n",
       "    </tr>\n",
       "    <tr>\n",
       "      <th>2016-2017</th>\n",
       "      <td>135.0</td>\n",
       "    </tr>\n",
       "    <tr>\n",
       "      <th>2017-2018</th>\n",
       "      <td>NaN</td>\n",
       "    </tr>\n",
       "  </tbody>\n",
       "</table>\n",
       "</div>"
      ],
      "text/plain": [
       "type       October Enrollment\n",
       "2008-2009               132.0\n",
       "2009-2010               117.0\n",
       "2010-2011               136.0\n",
       "2011-2012               135.0\n",
       "2012-2013               109.0\n",
       "2013-1014               130.0\n",
       "2014-2015               125.0\n",
       "2015-2016               134.0\n",
       "2016-2017               135.0\n",
       "2017-2018                 NaN"
      ]
     },
     "execution_count": 17,
     "metadata": {},
     "output_type": "execute_result"
    }
   ],
   "source": [
    "df_enrollment.T"
   ]
  },
  {
   "cell_type": "code",
   "execution_count": 18,
   "metadata": {},
   "outputs": [],
   "source": [
    "df_enrollment_adjusted = df_enrollment.T.drop(index='2012-2013')"
   ]
  },
  {
   "cell_type": "code",
   "execution_count": 19,
   "metadata": {},
   "outputs": [
    {
     "data": {
      "text/html": [
       "<div>\n",
       "<style scoped>\n",
       "    .dataframe tbody tr th:only-of-type {\n",
       "        vertical-align: middle;\n",
       "    }\n",
       "\n",
       "    .dataframe tbody tr th {\n",
       "        vertical-align: top;\n",
       "    }\n",
       "\n",
       "    .dataframe thead th {\n",
       "        text-align: right;\n",
       "    }\n",
       "</style>\n",
       "<table border=\"1\" class=\"dataframe\">\n",
       "  <thead>\n",
       "    <tr style=\"text-align: right;\">\n",
       "      <th>type</th>\n",
       "      <th>October Enrollment</th>\n",
       "    </tr>\n",
       "  </thead>\n",
       "  <tbody>\n",
       "    <tr>\n",
       "      <th>count</th>\n",
       "      <td>8.000000</td>\n",
       "    </tr>\n",
       "    <tr>\n",
       "      <th>mean</th>\n",
       "      <td>130.500000</td>\n",
       "    </tr>\n",
       "    <tr>\n",
       "      <th>std</th>\n",
       "      <td>6.524678</td>\n",
       "    </tr>\n",
       "    <tr>\n",
       "      <th>min</th>\n",
       "      <td>117.000000</td>\n",
       "    </tr>\n",
       "    <tr>\n",
       "      <th>25%</th>\n",
       "      <td>128.750000</td>\n",
       "    </tr>\n",
       "    <tr>\n",
       "      <th>50%</th>\n",
       "      <td>133.000000</td>\n",
       "    </tr>\n",
       "    <tr>\n",
       "      <th>75%</th>\n",
       "      <td>135.000000</td>\n",
       "    </tr>\n",
       "    <tr>\n",
       "      <th>max</th>\n",
       "      <td>136.000000</td>\n",
       "    </tr>\n",
       "  </tbody>\n",
       "</table>\n",
       "</div>"
      ],
      "text/plain": [
       "type   October Enrollment\n",
       "count            8.000000\n",
       "mean           130.500000\n",
       "std              6.524678\n",
       "min            117.000000\n",
       "25%            128.750000\n",
       "50%            133.000000\n",
       "75%            135.000000\n",
       "max            136.000000"
      ]
     },
     "execution_count": 19,
     "metadata": {},
     "output_type": "execute_result"
    }
   ],
   "source": [
    "df_enrollment_adjusted.describe()"
   ]
  },
  {
   "cell_type": "code",
   "execution_count": 20,
   "metadata": {},
   "outputs": [
    {
     "name": "stdout",
     "output_type": "stream",
     "text": [
      "Greatest change in teacher hours over ten year period without outlier: 28.5\n",
      "Average change in teacher hours over ten year period without outlier 9.787017640002203\n"
     ]
    }
   ],
   "source": [
    "high_ea = df_enrollment_adjusted['October Enrollment'].max() - df_enrollment_adjusted['October Enrollment'].min()\n",
    "avg_ea = df_enrollment_adjusted['October Enrollment'].std()\n",
    "\n",
    "high_a = enrollment_to_teacher_hours(high_ea)\n",
    "\n",
    "avg_a = enrollment_to_teacher_hours(avg_ea)\n",
    "\n",
    "print('Greatest change in teacher hours over ten year period without outlier:', high_a)\n",
    "\n",
    "print('Average change in teacher hours over ten year period without outlier', avg_a)"
   ]
  },
  {
   "cell_type": "markdown",
   "metadata": {},
   "source": [
    "This looks a little more manageable."
   ]
  },
  {
   "cell_type": "markdown",
   "metadata": {},
   "source": [
    "#### Attendance"
   ]
  },
  {
   "cell_type": "code",
   "execution_count": 21,
   "metadata": {},
   "outputs": [
    {
     "data": {
      "image/png": "[encoded data removed]",
      "text/plain": [
       "<Figure size 720x504 with 1 Axes>"
      ]
     },
     "metadata": {},
     "output_type": "display_data"
    }
   ],
   "source": [
    "fig, ax = plt.subplots(figsize=(10, 7))\n",
    "draw_plot(y_att, 'black', 'c')\n",
    "fig.suptitle('BIS Attendance Distribution', fontsize=15)\n",
    "#ax.set_xlabel('Box Plot')\n",
    "#ax.set_ylabel('Enrollment')\n",
    "plt.show()"
   ]
  },
  {
   "cell_type": "markdown",
   "metadata": {},
   "source": [
    "Attendance is a little more symmetric."
   ]
  },
  {
   "cell_type": "markdown",
   "metadata": {},
   "source": [
    "## Histograms"
   ]
  },
  {
   "cell_type": "code",
   "execution_count": 22,
   "metadata": {},
   "outputs": [],
   "source": [
    "def hist(x, title, color='c', alpha=0.6, ymax=12, xlabel='Enrollment'):\n",
    "\n",
    "    # Create larger size of figure\n",
    "    plt.figure(figsize=(10,7))\n",
    "    \n",
    "    # Create histogram of 20 bins showing fares from 0 to $20\n",
    "    plt.hist(x, bins=7, range=(80,150), ec='white', color=color, alpha=alpha)\n",
    "\n",
    "    # Create labels\n",
    "    plt.xlabel(xlabel)\n",
    "    plt.ylabel('Reports')\n",
    "    plt.title(title, fontsize=15)\n",
    "    plt.ylim(0, ymax)\n",
    "\n",
    "    # Save figure\n",
    "    plt.savefig(title, dpi=300)\n",
    "\n",
    "    # Show graph\n",
    "    plt.show()"
   ]
  },
  {
   "cell_type": "code",
   "execution_count": 23,
   "metadata": {},
   "outputs": [
    {
     "data": {
      "image/png": "[encoded data removed]",
      "text/plain": [
       "<Figure size 720x504 with 1 Axes>"
      ]
     },
     "metadata": {},
     "output_type": "display_data"
    }
   ],
   "source": [
    "hist(y_att, 'BIS Attendance 2008-2018', ymax=7, xlabel='Attendance', color='c')"
   ]
  },
  {
   "cell_type": "markdown",
   "metadata": {},
   "source": [
    "Most attendance reports are in the 110-140 range."
   ]
  },
  {
   "cell_type": "code",
   "execution_count": 24,
   "metadata": {},
   "outputs": [
    {
     "data": {
      "image/png": "[encoded data removed]",
      "text/plain": [
       "<Figure size 720x504 with 1 Axes>"
      ]
     },
     "metadata": {},
     "output_type": "display_data"
    }
   ],
   "source": [
    "hist(y_E, 'BIS Enrollment 2008-2018', ymax=7, xlabel='Enrollment', color='steelblue')"
   ]
  },
  {
   "cell_type": "markdown",
   "metadata": {},
   "source": [
    "This histogram is very telling. Almost all enrollment reports have 130-something students."
   ]
  },
  {
   "cell_type": "code",
   "execution_count": 25,
   "metadata": {},
   "outputs": [
    {
     "data": {
      "image/png": "[encoded data removed]",
      "text/plain": [
       "<Figure size 720x504 with 1 Axes>"
      ]
     },
     "metadata": {},
     "output_type": "display_data"
    }
   ],
   "source": [
    "#Stack the data\n",
    "plt.figure(figsize=(10,7))\n",
    "pal = ['steelblue', 'skyblue']\n",
    "plt.hist([y_E, y_att], bins=7, label=['Enrollment', 'Attendance'], range=(80,150), color=pal, alpha=0.6, stacked=True)\n",
    "plt.legend(loc='upper left')\n",
    "plt.xlabel('Enrollment')\n",
    "plt.ylabel('Reports')\n",
    "plt.title('BIS Enrollment & Attendance 2008-2018', fontsize=15)\n",
    "plt.show()"
   ]
  },
  {
   "cell_type": "markdown",
   "metadata": {},
   "source": [
    "As expected, attendance sandwiches enrollment. "
   ]
  },
  {
   "cell_type": "code",
   "execution_count": 26,
   "metadata": {},
   "outputs": [
    {
     "data": {
      "image/png": "[encoded data removed]",
      "text/plain": [
       "<Figure size 720x504 with 1 Axes>"
      ]
     },
     "metadata": {},
     "output_type": "display_data"
    }
   ],
   "source": [
    "#Stack the data\n",
    "plt.figure(figsize=(10,7))\n",
    "pal = ['steelblue', 'skyblue', 'royalblue', 'turquoise']\n",
    "plt.hist([y_E, y_P1, y_P2, y_PA], bins=7, label=['Enrollment', 'P1', 'P2', 'PA'], range=(80,150), color=pal, alpha=0.6, stacked=True)\n",
    "plt.legend(loc='upper left')\n",
    "plt.xlabel('Enrollment')\n",
    "plt.ylabel('Reports')\n",
    "plt.title('BIS Enrollment-Attendance by Report 2008-2018', fontsize=15)\n",
    "plt.show()"
   ]
  },
  {
   "cell_type": "markdown",
   "metadata": {},
   "source": [
    "The first attendance period appears to be the lowest on average."
   ]
  },
  {
   "cell_type": "markdown",
   "metadata": {},
   "source": [
    "## Scatter Plots"
   ]
  },
  {
   "cell_type": "code",
   "execution_count": 27,
   "metadata": {},
   "outputs": [],
   "source": [
    "def ols_poly(x, y, degree):\n",
    "    poly_list = np.array([x**i for i in range(1,degree + 1)])\n",
    "    X = np.column_stack(poly_list)\n",
    "    X = sm.add_constant(X)\n",
    "    model = sm.OLS(y, X)\n",
    "    est = model.fit()\n",
    "    summary = est.summary()\n",
    "    \n",
    "    x_pred = np.linspace(2007,2020,900)\n",
    "    pred_list = np.array([x_pred**i for i in range(1,degree+1)])\n",
    "    X_pred = np.column_stack(pred_list)\n",
    "    X_pred2 = sm.add_constant(X_pred)\n",
    "    y_pred = est.predict(X_pred2)\n",
    "    \n",
    "    return X_pred2, y_pred, summary"
   ]
  },
  {
   "cell_type": "code",
   "execution_count": 28,
   "metadata": {},
   "outputs": [],
   "source": [
    "# Define function that displays all attendance points\n",
    "def all_attendance(regression=False, color=True, title='BIS Attendance', both=False, degree=1):\n",
    "\n",
    "    fig, ax = plt.subplots(figsize=(10, 7))\n",
    "    \n",
    "    if color:\n",
    "        if both:\n",
    "            ax.scatter(x_E, y_E, alpha=0.5, s=150, c = 'steelblue')\n",
    "        ax.scatter(x_P1, y_P1, alpha=0.6, s= 75, c = 'skyblue')\n",
    "        ax.scatter(x_P2, y_P2, alpha=0.5, s= 75, c='slateblue')\n",
    "        ax.scatter(x_PA, y_PA, alpha=0.6, s= 75, c='lightgreen')\n",
    "\n",
    "    else:\n",
    "        if both:\n",
    "            ax.scatter(x_all, y_all, alpha=0.5, s=95, c = 'c')    \n",
    "        else:\n",
    "            ax.scatter(x_att, y_att, alpha=0.5, s=95, c = 'c')\n",
    "\n",
    "    fig.suptitle(title, fontsize=15)\n",
    "\n",
    "    fig.tight_layout(pad=2); \n",
    "\n",
    "    ax.grid(True)\n",
    "\n",
    "    ax.set_xlim([2008, 2019])\n",
    "    ax.set_ylim([0,160])\n",
    "    ax.set_xlabel('Year')\n",
    "    ax.set_ylabel('Attendance')\n",
    "    ax.set_xticks(np.linspace(2008, 2018, 11))\n",
    "    \n",
    "    if regression:\n",
    "        \n",
    "        if both:\n",
    "            x_pred, y_pred, summary = ols_poly(x_all, y_all, degree)\n",
    "        else:\n",
    "            x_pred, y_pred, summary = ols_poly(x_att, y_att, degree)\n",
    "        \n",
    "        ax.plot(x_pred, y_pred, '-', color='orchid', linewidth=1.5, alpha=0.75)    \n",
    "\n",
    "    plt.legend(loc='lower right')\n",
    "        \n",
    "    plt.show()\n",
    "    \n",
    "    fig.savefig(title, dpi=325)\n",
    "    \n",
    "    if regression:\n",
    "        print(summary)"
   ]
  },
  {
   "cell_type": "markdown",
   "metadata": {},
   "source": [
    "#### All Attendance Scatter Plot"
   ]
  },
  {
   "cell_type": "code",
   "execution_count": 29,
   "metadata": {},
   "outputs": [
    {
     "data": {
      "image/png": "[encoded data removed]",
      "text/plain": [
       "<Figure size 720x504 with 1 Axes>"
      ]
     },
     "metadata": {},
     "output_type": "display_data"
    }
   ],
   "source": [
    "all_attendance(title='BIS Attendance Reports')"
   ]
  },
  {
   "cell_type": "markdown",
   "metadata": {},
   "source": [
    "There is a clear pattern of attendance. It makes a nice V-shape. But there is no reason to expect the V-shape to continue. Attendance may have been trending downward, and then trending upward. We want to know the overall expectation. Linear regression is the most straightforward option, and a nice place to start."
   ]
  },
  {
   "cell_type": "markdown",
   "metadata": {},
   "source": [
    "#### All Attendance Regression Line"
   ]
  },
  {
   "cell_type": "code",
   "execution_count": 30,
   "metadata": {},
   "outputs": [
    {
     "data": {
      "image/png": "[encoded data removed]",
      "text/plain": [
       "<Figure size 720x504 with 1 Axes>"
      ]
     },
     "metadata": {},
     "output_type": "display_data"
    },
    {
     "name": "stdout",
     "output_type": "stream",
     "text": [
      "                            OLS Regression Results                            \n",
      "==============================================================================\n",
      "Dep. Variable:                      y   R-squared:                       0.028\n",
      "Model:                            OLS   Adj. R-squared:                 -0.021\n",
      "Method:                 Least Squares   F-statistic:                    0.5778\n",
      "Date:                Fri, 23 Nov 2018   Prob (F-statistic):              0.456\n",
      "Time:                        16:57:08   Log-Likelihood:                -92.465\n",
      "No. Observations:                  22   AIC:                             188.9\n",
      "Df Residuals:                      20   BIC:                             191.1\n",
      "Df Model:                           1                                         \n",
      "Covariance Type:            nonrobust                                         \n",
      "==============================================================================\n",
      "                 coef    std err          t      P>|t|      [0.025      0.975]\n",
      "------------------------------------------------------------------------------\n",
      "const      -2226.4200   3083.031     -0.722      0.479   -8657.509    4204.669\n",
      "x1             1.1636      1.531      0.760      0.456      -2.030       4.357\n",
      "==============================================================================\n",
      "Omnibus:                        0.762   Durbin-Watson:                   1.273\n",
      "Prob(Omnibus):                  0.683   Jarque-Bera (JB):                0.503\n",
      "Skew:                          -0.355   Prob(JB):                        0.778\n",
      "Kurtosis:                       2.792   Cond. No.                     1.72e+06\n",
      "==============================================================================\n",
      "\n",
      "Warnings:\n",
      "[1] Standard Errors assume that the covariance matrix of the errors is correctly specified.\n",
      "[2] The condition number is large, 1.72e+06. This might indicate that there are\n",
      "strong multicollinearity or other numerical problems.\n"
     ]
    }
   ],
   "source": [
    "all_attendance(regression=True, title='BIS Attendance Regression Line')"
   ]
  },
  {
   "cell_type": "markdown",
   "metadata": {},
   "source": [
    "The regression line suggests that overall attendance is slightly increasing. Specifically, the OLS results tell us that every year the expected attendance goes up by about 1 student (coef x1: 1.1636). Furthermore, the standard error of 1.531 indicates that actual attendance deviates from the line by about 1.5 students.\n",
    "\n",
    "The R^2 value, however, is quite low at 0.028. This means that most of the variation in Y is not explained by the variation in X. In reality, a very low R^2 in this particular case is understandable. Years are not good predictors of attendance. Consider going back to the year 0 (intercept: -2226), and going 100 years forward. Both are meaningless. It's not the relationship between years and attendance that interests us here, but consistent patterns of attendance over time.\n",
    "\n",
    "Another significant statistic is the 95% confidence interval given as -2 to 4. We are 95% confident that in a given year attendance will go up by about 4 students, or down by about 2 students."
   ]
  },
  {
   "cell_type": "markdown",
   "metadata": {},
   "source": [
    "#### All Attendance Quadratic Regression"
   ]
  },
  {
   "cell_type": "code",
   "execution_count": 31,
   "metadata": {},
   "outputs": [
    {
     "data": {
      "image/png": "[encoded data removed]",
      "text/plain": [
       "<Figure size 720x504 with 1 Axes>"
      ]
     },
     "metadata": {},
     "output_type": "display_data"
    },
    {
     "name": "stdout",
     "output_type": "stream",
     "text": [
      "                            OLS Regression Results                            \n",
      "==============================================================================\n",
      "Dep. Variable:                      y   R-squared:                       0.553\n",
      "Model:                            OLS   Adj. R-squared:                  0.506\n",
      "Method:                 Least Squares   F-statistic:                     11.74\n",
      "Date:                Fri, 23 Nov 2018   Prob (F-statistic):           0.000478\n",
      "Time:                        16:57:08   Log-Likelihood:                -83.926\n",
      "No. Observations:                  22   AIC:                             173.9\n",
      "Df Residuals:                      19   BIC:                             177.1\n",
      "Df Model:                           2                                         \n",
      "Covariance Type:            nonrobust                                         \n",
      "==============================================================================\n",
      "                 coef    std err          t      P>|t|      [0.025      0.975]\n",
      "------------------------------------------------------------------------------\n",
      "const          5.8156      1.232      4.719      0.000       3.236       8.395\n",
      "x1          3903.2134    827.089      4.719      0.000    2172.096    5634.331\n",
      "x2            -3.8772      0.821     -4.720      0.000      -5.597      -2.158\n",
      "x3             0.0010      0.000      4.720      0.000       0.001       0.001\n",
      "==============================================================================\n",
      "Omnibus:                        4.271   Durbin-Watson:                   2.054\n",
      "Prob(Omnibus):                  0.118   Jarque-Bera (JB):                3.517\n",
      "Skew:                          -0.964   Prob(JB):                        0.172\n",
      "Kurtosis:                       2.657   Cond. No.                     4.42e+18\n",
      "==============================================================================\n",
      "\n",
      "Warnings:\n",
      "[1] Standard Errors assume that the covariance matrix of the errors is correctly specified.\n",
      "[2] The smallest eigenvalue is 7.51e-17. This might indicate that there are\n",
      "strong multicollinearity problems or that the design matrix is singular.\n"
     ]
    }
   ],
   "source": [
    "all_attendance(regression=True, title='BIS Attendance Quadratic Fit', degree=3)"
   ]
  },
  {
   "cell_type": "markdown",
   "metadata": {},
   "source": [
    "Several significant changes come with the quadratic curve, most notably, and increase in R^2 to 55%. But for reasons suggested above, this not a good model. For instance, attendance in 2019 will not exceed 160 students. There is a maximum capacity that gets filled when teachers can't take any more students. That number is around 160, depending on the year, and attendance will always be lower. Similarly, attendance did not skyrocket before 2008.\n",
    "\n",
    "Given the absurdities of such a model, despite the goodness of fit, we will be sticking with linear models going forward."
   ]
  },
  {
   "cell_type": "markdown",
   "metadata": {},
   "source": [
    "#### Ordinary Least Squares Formula"
   ]
  },
  {
   "cell_type": "code",
   "execution_count": 32,
   "metadata": {},
   "outputs": [],
   "source": [
    "def ols(x, y, color='c', title='BIS Attendance', alpha=0.6, degree=1):\n",
    "    \n",
    "    fig, ax = plt.subplots(figsize=(10, 7))\n",
    "\n",
    "    ax.scatter(x, y, alpha=alpha, color=color, s=95)\n",
    "\n",
    "    fig.suptitle(title, fontsize=15)\n",
    "\n",
    "    fig.tight_layout(pad=2); \n",
    "\n",
    "    ax.grid(True)\n",
    "    \n",
    "    x_pred = np.linspace(2007,2020,900)\n",
    "    \n",
    "    ax.set_xlim([2008, 2019])\n",
    "    ax.set_ylim([0,160])\n",
    "    ax.set_xlabel('Year')\n",
    "    ax.set_ylabel('Attendance')\n",
    "    ax.set_xticks(np.linspace(2008, 2018, 11))\n",
    "        \n",
    "    x_pred, y_pred, summary = ols_poly(x, y, degree)\n",
    " \n",
    "    ax.plot(x_pred, y_pred, '-', color='orchid', linewidth=1.5, alpha=0.75)\n",
    "\n",
    "    plt.show()\n",
    "\n",
    "    fig.savefig(title, dpi=325)\n",
    "\n",
    "    print(summary)"
   ]
  },
  {
   "cell_type": "markdown",
   "metadata": {},
   "source": [
    "#### Enrollment OLS"
   ]
  },
  {
   "cell_type": "code",
   "execution_count": 33,
   "metadata": {
    "scrolled": true
   },
   "outputs": [
    {
     "data": {
      "image/png": "[encoded data removed]",
      "text/plain": [
       "<Figure size 720x504 with 1 Axes>"
      ]
     },
     "metadata": {},
     "output_type": "display_data"
    },
    {
     "name": "stdout",
     "output_type": "stream",
     "text": [
      "                            OLS Regression Results                            \n",
      "==============================================================================\n",
      "Dep. Variable:     October Enrollment   R-squared:                       0.030\n",
      "Model:                            OLS   Adj. R-squared:                 -0.108\n",
      "Method:                 Least Squares   F-statistic:                    0.2200\n",
      "Date:                Fri, 23 Nov 2018   Prob (F-statistic):              0.653\n",
      "Time:                        16:57:09   Log-Likelihood:                -32.280\n",
      "No. Observations:                   9   AIC:                             68.56\n",
      "Df Residuals:                       7   BIC:                             68.96\n",
      "Df Model:                           1                                         \n",
      "Covariance Type:            nonrobust                                         \n",
      "==============================================================================\n",
      "                 coef    std err          t      P>|t|      [0.025      0.975]\n",
      "------------------------------------------------------------------------------\n",
      "const      -1079.6889   2575.071     -0.419      0.688   -7168.763    5009.386\n",
      "x1             0.6000      1.279      0.469      0.653      -2.425       3.625\n",
      "==============================================================================\n",
      "Omnibus:                        3.850   Durbin-Watson:                   2.634\n",
      "Prob(Omnibus):                  0.146   Jarque-Bera (JB):                1.646\n",
      "Skew:                          -1.047   Prob(JB):                        0.439\n",
      "Kurtosis:                       2.924   Cond. No.                     1.57e+06\n",
      "==============================================================================\n",
      "\n",
      "Warnings:\n",
      "[1] Standard Errors assume that the covariance matrix of the errors is correctly specified.\n",
      "[2] The condition number is large, 1.57e+06. This might indicate that there are\n",
      "strong multicollinearity or other numerical problems.\n"
     ]
    }
   ],
   "source": [
    "ols(x_E, y_E, 'steelblue', title='BIS Enrollment')"
   ]
  },
  {
   "cell_type": "markdown",
   "metadata": {},
   "source": [
    "Linear regression on enrollment gives similar results. The 95% confidence interval is that enrollment increases by about 3.5 students or descreases by about 2.5 students in subsequent years. The standard error remains very low at about 1.3."
   ]
  },
  {
   "cell_type": "markdown",
   "metadata": {},
   "source": [
    "The enrollment regression line is very similar to the attendance regression line. Enrollment goes up by 0.60 students per year. The 95% confidence interval is a decrease of 2 students to an increase of 4 students. R^2 is similarly low."
   ]
  },
  {
   "cell_type": "markdown",
   "metadata": {},
   "source": [
    "#### Including Enrollment With Attendance"
   ]
  },
  {
   "cell_type": "markdown",
   "metadata": {},
   "source": [
    "It's interesting to see how enrollment fits in with attendance. Will the linear regression line by stronger or weaker?"
   ]
  },
  {
   "cell_type": "code",
   "execution_count": 34,
   "metadata": {
    "scrolled": true
   },
   "outputs": [
    {
     "data": {
      "image/png": "[encoded data removed]",
      "text/plain": [
       "<Figure size 720x504 with 1 Axes>"
      ]
     },
     "metadata": {},
     "output_type": "display_data"
    },
    {
     "name": "stdout",
     "output_type": "stream",
     "text": [
      "                            OLS Regression Results                            \n",
      "==============================================================================\n",
      "Dep. Variable:                      y   R-squared:                       0.008\n",
      "Model:                            OLS   Adj. R-squared:                 -0.026\n",
      "Method:                 Least Squares   F-statistic:                    0.2291\n",
      "Date:                Fri, 23 Nov 2018   Prob (F-statistic):              0.636\n",
      "Time:                        16:57:09   Log-Likelihood:                -128.78\n",
      "No. Observations:                  31   AIC:                             261.6\n",
      "Df Residuals:                      29   BIC:                             264.4\n",
      "Df Model:                           1                                         \n",
      "Covariance Type:            nonrobust                                         \n",
      "==============================================================================\n",
      "                 coef    std err          t      P>|t|      [0.025      0.975]\n",
      "------------------------------------------------------------------------------\n",
      "const       -994.1267   2328.238     -0.427      0.673   -5755.909    3767.655\n",
      "x1             0.5534      1.156      0.479      0.636      -1.811       2.918\n",
      "==============================================================================\n",
      "Omnibus:                        3.926   Durbin-Watson:                   1.230\n",
      "Prob(Omnibus):                  0.140   Jarque-Bera (JB):                3.073\n",
      "Skew:                          -0.771   Prob(JB):                        0.215\n",
      "Kurtosis:                       3.019   Cond. No.                     1.64e+06\n",
      "==============================================================================\n",
      "\n",
      "Warnings:\n",
      "[1] Standard Errors assume that the covariance matrix of the errors is correctly specified.\n",
      "[2] The condition number is large, 1.64e+06. This might indicate that there are\n",
      "strong multicollinearity or other numerical problems.\n"
     ]
    }
   ],
   "source": [
    "all_attendance(regression=True, title='BIS Attendance-Enrollment', both=True)"
   ]
  },
  {
   "cell_type": "markdown",
   "metadata": {},
   "source": [
    "Although R^2 is weaker, the standard error is a little lower, and the confidence interval is a little smaller. It's safe to say that enrollment mixes in reasonably well with attendance."
   ]
  },
  {
   "cell_type": "markdown",
   "metadata": {},
   "source": [
    "#### P1 Regression Line"
   ]
  },
  {
   "cell_type": "code",
   "execution_count": 35,
   "metadata": {
    "scrolled": true
   },
   "outputs": [
    {
     "data": {
      "image/png": "[encoded data removed]",
      "text/plain": [
       "<Figure size 720x504 with 1 Axes>"
      ]
     },
     "metadata": {},
     "output_type": "display_data"
    },
    {
     "name": "stdout",
     "output_type": "stream",
     "text": [
      "                            OLS Regression Results                            \n",
      "==============================================================================\n",
      "Dep. Variable:                 P1 ADA   R-squared:                       0.340\n",
      "Model:                            OLS   Adj. R-squared:                  0.208\n",
      "Method:                 Least Squares   F-statistic:                     2.579\n",
      "Date:                Fri, 23 Nov 2018   Prob (F-statistic):              0.169\n",
      "Time:                        16:57:10   Log-Likelihood:                -27.956\n",
      "No. Observations:                   7   AIC:                             59.91\n",
      "Df Residuals:                       5   BIC:                             59.80\n",
      "Df Model:                           1                                         \n",
      "Covariance Type:            nonrobust                                         \n",
      "==============================================================================\n",
      "                 coef    std err          t      P>|t|      [0.025      0.975]\n",
      "------------------------------------------------------------------------------\n",
      "const      -9387.4286   5915.450     -1.587      0.173   -2.46e+04    5818.719\n",
      "x1             4.7143      2.936      1.606      0.169      -2.832      12.261\n",
      "==============================================================================\n",
      "Omnibus:                          nan   Durbin-Watson:                   2.832\n",
      "Prob(Omnibus):                    nan   Jarque-Bera (JB):                0.780\n",
      "Skew:                          -0.568   Prob(JB):                        0.677\n",
      "Kurtosis:                       1.823   Cond. No.                     2.03e+06\n",
      "==============================================================================\n",
      "\n",
      "Warnings:\n",
      "[1] Standard Errors assume that the covariance matrix of the errors is correctly specified.\n",
      "[2] The condition number is large, 2.03e+06. This might indicate that there are\n",
      "strong multicollinearity or other numerical problems.\n"
     ]
    }
   ],
   "source": [
    "ols(x_P1, y_P1, 'skyblue', title='BIS Attendance P1', alpha=1.0)"
   ]
  },
  {
   "cell_type": "markdown",
   "metadata": {},
   "source": [
    "This dataset is a good example of how R^2 can be overrated. Although R^2 has gone considerably up, the standard error has gone considerably down, and the confidence interval is much wider. The data is also limited due to NaN values from the first few years."
   ]
  },
  {
   "cell_type": "markdown",
   "metadata": {},
   "source": [
    "#### P2 Regression Line"
   ]
  },
  {
   "cell_type": "code",
   "execution_count": 36,
   "metadata": {},
   "outputs": [
    {
     "data": {
      "image/png": "[encoded data removed]",
      "text/plain": [
       "<Figure size 720x504 with 1 Axes>"
      ]
     },
     "metadata": {},
     "output_type": "display_data"
    },
    {
     "name": "stdout",
     "output_type": "stream",
     "text": [
      "                            OLS Regression Results                            \n",
      "==============================================================================\n",
      "Dep. Variable:                 P2 ADA   R-squared:                       0.011\n",
      "Model:                            OLS   Adj. R-squared:                 -0.131\n",
      "Method:                 Least Squares   F-statistic:                   0.07549\n",
      "Date:                Fri, 23 Nov 2018   Prob (F-statistic):              0.791\n",
      "Time:                        16:57:11   Log-Likelihood:                -37.608\n",
      "No. Observations:                   9   AIC:                             79.22\n",
      "Df Residuals:                       7   BIC:                             79.61\n",
      "Df Model:                           1                                         \n",
      "Covariance Type:            nonrobust                                         \n",
      "==============================================================================\n",
      "                 coef    std err          t      P>|t|      [0.025      0.975]\n",
      "------------------------------------------------------------------------------\n",
      "const       1400.3460   4654.720      0.301      0.772   -9606.319    1.24e+04\n",
      "x1            -0.6353      2.312     -0.275      0.791      -6.103       4.832\n",
      "==============================================================================\n",
      "Omnibus:                        1.183   Durbin-Watson:                   0.695\n",
      "Prob(Omnibus):                  0.554   Jarque-Bera (JB):                0.530\n",
      "Skew:                          -0.564   Prob(JB):                        0.767\n",
      "Kurtosis:                       2.622   Cond. No.                     1.57e+06\n",
      "==============================================================================\n",
      "\n",
      "Warnings:\n",
      "[1] Standard Errors assume that the covariance matrix of the errors is correctly specified.\n",
      "[2] The condition number is large, 1.57e+06. This might indicate that there are\n",
      "strong multicollinearity or other numerical problems.\n"
     ]
    }
   ],
   "source": [
    "ols(x_P2, y_P2, 'royalblue', alpha=0.55, title='BIS Attendance P2')"
   ]
  },
  {
   "cell_type": "markdown",
   "metadata": {},
   "source": [
    "Period 2 has a definite V-shape. It shows the general trend of attendance going down, and then back up."
   ]
  },
  {
   "cell_type": "markdown",
   "metadata": {},
   "source": [
    "#### P2 Quadratic Fit"
   ]
  },
  {
   "cell_type": "markdown",
   "metadata": {},
   "source": [
    "Here's a quadratic model just for fun."
   ]
  },
  {
   "cell_type": "code",
   "execution_count": 37,
   "metadata": {},
   "outputs": [
    {
     "data": {
      "image/png": "[encoded data removed]",
      "text/plain": [
       "<Figure size 720x504 with 1 Axes>"
      ]
     },
     "metadata": {},
     "output_type": "display_data"
    },
    {
     "name": "stdout",
     "output_type": "stream",
     "text": [
      "                            OLS Regression Results                            \n",
      "==============================================================================\n",
      "Dep. Variable:                 P2 ADA   R-squared:                       0.833\n",
      "Model:                            OLS   Adj. R-squared:                  0.777\n",
      "Method:                 Least Squares   F-statistic:                     14.98\n",
      "Date:                Fri, 23 Nov 2018   Prob (F-statistic):            0.00465\n",
      "Time:                        16:57:11   Log-Likelihood:                -29.600\n",
      "No. Observations:                   9   AIC:                             65.20\n",
      "Df Residuals:                       6   BIC:                             65.79\n",
      "Df Model:                           2                                         \n",
      "Covariance Type:            nonrobust                                         \n",
      "==============================================================================\n",
      "                 coef    std err          t      P>|t|      [0.025      0.975]\n",
      "------------------------------------------------------------------------------\n",
      "const       9.978e+06   1.83e+06      5.438      0.002    5.49e+06    1.45e+07\n",
      "x1         -9912.4382   1822.840     -5.438      0.002   -1.44e+04   -5452.111\n",
      "x2             2.4619      0.453      5.438      0.002       1.354       3.570\n",
      "==============================================================================\n",
      "Omnibus:                       10.117   Durbin-Watson:                   2.138\n",
      "Prob(Omnibus):                  0.006   Jarque-Bera (JB):                3.889\n",
      "Skew:                          -1.458   Prob(JB):                        0.143\n",
      "Kurtosis:                       4.368   Cond. No.                     2.81e+12\n",
      "==============================================================================\n",
      "\n",
      "Warnings:\n",
      "[1] Standard Errors assume that the covariance matrix of the errors is correctly specified.\n",
      "[2] The smallest eigenvalue is 1.88e-11. This might indicate that there are\n",
      "strong multicollinearity problems or that the design matrix is singular.\n"
     ]
    }
   ],
   "source": [
    "ols(x_P2, y_P2, 'royalblue', alpha=0.55, title='BIS Attendance P2 Quadratic', degree=2)"
   ]
  },
  {
   "cell_type": "markdown",
   "metadata": {},
   "source": [
    "It's a great model for obtaining results from 2008-2018, but it's worthless for predicting the future and pre-2008 past."
   ]
  },
  {
   "cell_type": "markdown",
   "metadata": {},
   "source": [
    "#### PA Regression Line"
   ]
  },
  {
   "cell_type": "markdown",
   "metadata": {},
   "source": [
    "I am not sure what PA refers to."
   ]
  },
  {
   "cell_type": "code",
   "execution_count": 38,
   "metadata": {},
   "outputs": [
    {
     "data": {
      "image/png": "[encoded data removed]",
      "text/plain": [
       "<Figure size 720x504 with 1 Axes>"
      ]
     },
     "metadata": {},
     "output_type": "display_data"
    },
    {
     "name": "stdout",
     "output_type": "stream",
     "text": [
      "                            OLS Regression Results                            \n",
      "==============================================================================\n",
      "Dep. Variable:                 PA ADA   R-squared:                       0.623\n",
      "Model:                            OLS   Adj. R-squared:                  0.529\n",
      "Method:                 Least Squares   F-statistic:                     6.613\n",
      "Date:                Fri, 23 Nov 2018   Prob (F-statistic):             0.0619\n",
      "Time:                        16:57:12   Log-Likelihood:                -22.085\n",
      "No. Observations:                   6   AIC:                             48.17\n",
      "Df Residuals:                       4   BIC:                             47.75\n",
      "Df Model:                           1                                         \n",
      "Covariance Type:            nonrobust                                         \n",
      "==============================================================================\n",
      "                 coef    std err          t      P>|t|      [0.025      0.975]\n",
      "------------------------------------------------------------------------------\n",
      "const      -1.445e+04   5662.584     -2.551      0.063   -3.02e+04    1276.395\n",
      "x1             7.2286      2.811      2.572      0.062      -0.576      15.033\n",
      "==============================================================================\n",
      "Omnibus:                          nan   Durbin-Watson:                   2.316\n",
      "Prob(Omnibus):                    nan   Jarque-Bera (JB):                0.326\n",
      "Skew:                          -0.535   Prob(JB):                        0.850\n",
      "Kurtosis:                       2.601   Cond. No.                     2.38e+06\n",
      "==============================================================================\n",
      "\n",
      "Warnings:\n",
      "[1] Standard Errors assume that the covariance matrix of the errors is correctly specified.\n",
      "[2] The condition number is large, 2.38e+06. This might indicate that there are\n",
      "strong multicollinearity or other numerical problems.\n"
     ]
    }
   ],
   "source": [
    "ols(x_PA, y_PA, 'turquoise', title='BIS Attendance PA', alpha=0.75)"
   ]
  },
  {
   "cell_type": "markdown",
   "metadata": {},
   "source": [
    "PA also has missing NaN values. The shape and results are very similar to P1."
   ]
  },
  {
   "cell_type": "markdown",
   "metadata": {},
   "source": [
    "# Bootstrap"
   ]
  },
  {
   "cell_type": "markdown",
   "metadata": {},
   "source": [
    "We will now determine whether the attendance for P1, the earliest on record, is statistically significant. Since it's attendance, and not enrollment, we will compare it to other attendance periods.\n",
    "\n",
    "The general outline for the hypothesis test will work as follows:\n",
    "1. Collect all attendance entires for BIS during 2008-2018.\n",
    "2. Calculate the P1 mean attendance for BIS during 2008-2018.\n",
    "3. Use bootstrapping as follows:\n",
    "    1. Take 100,000 samples of #1 with replacement to obtain 100,000 mean attendance values.\n",
    "    2. Compute 95% Confidence Interval since means are approximately normally distributed.\n",
    "    3. Discover if #2 falls within the 95% Confidence Interval.\n",
    "    \n",
    "A note on bootstrapping: If one has never done it before, bootstrapping seems a bit strange. The general idea is to force a normal distribution to take advantage of general statistical methods like confidence intervals. Bootstrapping is totally justified because when resampling a significant number of times, like over 10,000, a normal distribution naturally takes shape. \n",
    "Thus means above 97.5%, or less than 2.5% are shown to be rare and indeed statistically significant."
   ]
  },
  {
   "cell_type": "code",
   "execution_count": 39,
   "metadata": {},
   "outputs": [],
   "source": [
    "#Returns the result of a function, like np.mean(), for a replicate\n",
    "def bootstrap_replicate_1d(data, func):\n",
    "    return func(np.random.choice(data, size=len(data)))\n",
    "\n",
    "#Calls above function to produce results of desired function, like np.mean(), for all replicants\n",
    "def draw_bs_reps(data, func, size=len(x_P1)):\n",
    "    \"\"\"Draw bootstrap replicates.\"\"\"\n",
    "\n",
    "    # Initialize array of replicates: bs_replicates\n",
    "    bs_replicates = np.empty(size)\n",
    "\n",
    "    # Generate replicates\n",
    "    for i in range(size):\n",
    "        bs_replicates[i] = bootstrap_replicate_1d(data, func)\n",
    "\n",
    "    return bs_replicates"
   ]
  },
  {
   "cell_type": "code",
   "execution_count": 40,
   "metadata": {},
   "outputs": [],
   "source": [
    "def bootstrap_plot(y, label, color='c', alpha=0.7, title='Mean Attendance', bins=25):\n",
    "    \n",
    "    # Compute actual mean\n",
    "    mean = y.mean()\n",
    "    print(\"The actual mean of\", label, \"is:\", mean)\n",
    "\n",
    "    # Take 100,000 bootstrap replicates of the mean: bs_replicates\n",
    "    bs_replicates = draw_bs_reps(y, np.mean, size=100000)\n",
    "    \n",
    "    # Compute bootstrapped mean\n",
    "    bs_mean = bs_replicates.mean()\n",
    "    print(\"The boostrapped mean is:\", bs_mean)\n",
    "\n",
    "    # Compute and print SEM\n",
    "    sem = np.std(y) / np.sqrt(len(y))\n",
    "    print(\"The standard error of the bootstrapped mean is:\", sem)\n",
    "    \n",
    "    # Compute and print standard deviation of bootstrap replicates\n",
    "    bs_std = np.std(bs_replicates)\n",
    "    print(\"The standard deviation of the bootstrapped mean is:\", bs_std)\n",
    "    \n",
    "    # This is a 95% Confidence Interval\n",
    "    CI = np.percentile(bs_replicates,[2.5, 97.5])\n",
    "    print(\"We are 95% confidnet that the true mean is captured by the following interval:\", CI)\n",
    "\n",
    "    # Make a histogram of the results\n",
    "    plt.figure(figsize=(10,7))\n",
    "    plt.hist(bs_replicates, bins=bins, density=True, color=color, alpha=alpha)\n",
    "    plt.xlabel('Bootstrap Mean')\n",
    "    plt.ylabel('PDF')\n",
    "    plt.title(title, fontsize=15)\n",
    "    plt.show()\n",
    "    \n",
    "    # Show the plot\n",
    "    plt.show()"
   ]
  },
  {
   "cell_type": "markdown",
   "metadata": {},
   "source": [
    "#### Bootstrap P1"
   ]
  },
  {
   "cell_type": "markdown",
   "metadata": {},
   "source": [
    "Although we don't need to bootstrap P1, we only need the mean, it can be instructive to bootstrap it anyways and compare means."
   ]
  },
  {
   "cell_type": "code",
   "execution_count": 41,
   "metadata": {},
   "outputs": [
    {
     "name": "stdout",
     "output_type": "stream",
     "text": [
      "The actual mean of Period 1 is: 111.85714285714286\n",
      "The boostrapped mean is: 111.83742857142856\n",
      "The standard error of the bootstrapped mean is: 6.109305620146193\n",
      "The standard deviation of the bootstrapped mean is: 6.102991096710745\n",
      "We are 95% confidnet that the true mean is captured by the following interval: [100.         123.42857143]\n"
     ]
    },
    {
     "data": {
      "image/png": "[encoded data removed]",
      "text/plain": [
       "<Figure size 720x504 with 1 Axes>"
      ]
     },
     "metadata": {},
     "output_type": "display_data"
    }
   ],
   "source": [
    "bootstrap_plot(y_P1, \"Period 1\", color='skyblue', alpha=0.8, title='BIS P1 Mean Attendance', bins=20)"
   ]
  },
  {
   "cell_type": "markdown",
   "metadata": {},
   "source": [
    "#### Bootstrap All Attendance Periods"
   ]
  },
  {
   "cell_type": "markdown",
   "metadata": {},
   "source": [
    "This is the important bootstrap. If the mean of P1, 111.857, falls outside of the upcomping Confidence Interval, then it will be statistically significant. Otherwise it's not."
   ]
  },
  {
   "cell_type": "code",
   "execution_count": 42,
   "metadata": {},
   "outputs": [
    {
     "name": "stdout",
     "output_type": "stream",
     "text": [
      "The actual mean of all attendance periods is: 117.03545454545453\n",
      "The boostrapped mean is: 117.03502392727269\n",
      "The standard error of the bootstrapped mean is: 3.4999116710975144\n",
      "The standard deviation of the bootstrapped mean is: 3.506089223717382\n",
      "We are 95% confidnet that the true mean is captured by the following interval: [110.         123.72727273]\n"
     ]
    },
    {
     "data": {
      "image/png": "[encoded data removed]",
      "text/plain": [
       "<Figure size 720x504 with 1 Axes>"
      ]
     },
     "metadata": {},
     "output_type": "display_data"
    }
   ],
   "source": [
    "bootstrap_plot(y_att, \"all attendance periods\", color='c', title='BIS Overall Mean Attendance', bins=20)"
   ]
  },
  {
   "cell_type": "markdown",
   "metadata": {},
   "source": [
    "Since 111.857 is not in the 95% Confidence Interval [110.00 123.68], we conclude that it is not statistically significant."
   ]
  },
  {
   "cell_type": "markdown",
   "metadata": {},
   "source": [
    "#### More Bootstraps"
   ]
  },
  {
   "cell_type": "markdown",
   "metadata": {},
   "source": [
    "These are not needed, but here are the other bootstrapped periods for the fun of it."
   ]
  },
  {
   "cell_type": "code",
   "execution_count": 43,
   "metadata": {},
   "outputs": [
    {
     "name": "stdout",
     "output_type": "stream",
     "text": [
      "The actual mean of Period 2 is: 121.42\n",
      "The boostrapped mean is: 121.39800553333335\n",
      "The standard error of the bootstrapped mean is: 5.293719549302424\n",
      "The standard deviation of the bootstrapped mean is: 5.309083252944456\n",
      "We are 95% confidnet that the true mean is captured by the following interval: [110.55555556 131.33366667]\n"
     ]
    },
    {
     "data": {
      "image/png": "[encoded data removed]",
      "text/plain": [
       "<Figure size 720x504 with 1 Axes>"
      ]
     },
     "metadata": {},
     "output_type": "display_data"
    }
   ],
   "source": [
    "bootstrap_plot(y_P2, \"Period 2\", color='royalblue', alpha=0.55, title='BIS P2 Mean Attendance', bins=20)"
   ]
  },
  {
   "cell_type": "code",
   "execution_count": 44,
   "metadata": {},
   "outputs": [
    {
     "name": "stdout",
     "output_type": "stream",
     "text": [
      "The actual mean of Period A is: 116.5\n",
      "The boostrapped mean is: 116.47590166666666\n",
      "The standard error of the bootstrapped mean is: 6.384660436459319\n",
      "The standard deviation of the bootstrapped mean is: 6.380617228354558\n",
      "We are 95% confidnet that the true mean is captured by the following interval: [103.         127.83333333]\n"
     ]
    },
    {
     "data": {
      "image/png": "[encoded data removed]",
      "text/plain": [
       "<Figure size 720x504 with 1 Axes>"
      ]
     },
     "metadata": {},
     "output_type": "display_data"
    }
   ],
   "source": [
    "bootstrap_plot(y_PA, \"Period A\", color='turquoise', alpha=0.65, title='BIS PA Mean Attendance', bins=20)"
   ]
  },
  {
   "cell_type": "code",
   "execution_count": 45,
   "metadata": {},
   "outputs": [
    {
     "name": "stdout",
     "output_type": "stream",
     "text": [
      "The actual mean of Enrollment is: 128.11111111111111\n",
      "The boostrapped mean is: 128.11790666666667\n",
      "The standard error of the bootstrapped mean is: 2.9583297107727193\n",
      "The standard deviation of the bootstrapped mean is: 2.9645173642838967\n",
      "We are 95% confidnet that the true mean is captured by the following interval: [121.77777778 133.33333333]\n"
     ]
    },
    {
     "data": {
      "image/png": "[encoded data removed]",
      "text/plain": [
       "<Figure size 720x504 with 1 Axes>"
      ]
     },
     "metadata": {},
     "output_type": "display_data"
    }
   ],
   "source": [
    "bootstrap_plot(y_E, \"Enrollment\", color='steelblue', title='BIS Mean Enrollment', bins=20)"
   ]
  },
  {
   "cell_type": "markdown",
   "metadata": {},
   "source": [
    "## Conclusions"
   ]
  },
  {
   "cell_type": "markdown",
   "metadata": {},
   "source": [
    "The data suggests that BIS enrollment is predictable. In particular, October enrollment is consistently above 130 students, and it's expected to fluctuate between -3 and +4 students in subsequent years. The accuracy of these predictions are within a 95% Confidence Interval and a Standard Error of 1.3.\n",
    "\n",
    "BIS P1 Attendance is not statisitically significant at a 95% Confidence Level. Although BIS P1 Attendance is generally lower, it cannot be ruled out that this is due to chance. Other contributing factors may be limited data, and a higher percentage of enrolled students who do not complete work early in the year and therefore do not earn attendance. Such students are likely to be replaced later in the year with students who complete homework and therefore earn attendance. Thus attendance would go up, but enrollment would go down.\n",
    "\n",
    "It is recommended that more data is collected for further analysis. "
   ]
  }
 ],
 "metadata": {
  "kernelspec": {
   "display_name": "Python 3",
   "language": "python",
   "name": "python3"
  },
  "language_info": {
   "codemirror_mode": {
    "name": "ipython",
    "version": 3
   },
   "file_extension": ".py",
   "mimetype": "text/x-python",
   "name": "python",
   "nbconvert_exporter": "python",
   "pygments_lexer": "ipython3",
   "version": "3.6.6"
  }
 },
 "nbformat": 4,
 "nbformat_minor": 2
}
